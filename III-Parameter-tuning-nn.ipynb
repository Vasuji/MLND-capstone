{
 "cells": [
  {
   "cell_type": "markdown",
   "metadata": {},
   "source": [
    "# Udacity Machine Learning Nanodegree\n",
    "--------------\n",
    "\n",
    "\n",
    "## Capstone Project on Vehicle-Detection\n",
    "---------------\n"
   ]
  },
  {
   "cell_type": "markdown",
   "metadata": {},
   "source": [
    "### Parameter tuning in Neural Network"
   ]
  },
  {
   "cell_type": "markdown",
   "metadata": {},
   "source": [
    "#### Imports"
   ]
  },
  {
   "cell_type": "code",
   "execution_count": 1,
   "metadata": {
    "collapsed": true,
    "scrolled": true
   },
   "outputs": [],
   "source": [
    "import matplotlib.image as mpimg\n",
    "import matplotlib.pyplot as plt\n",
    "import numpy as np\n",
    "import cv2\n",
    "import glob\n",
    "from skimage.feature import hog\n",
    "from sklearn.preprocessing import StandardScaler\n",
    "from sklearn.model_selection import train_test_split\n",
    "import time \n",
    "from sklearn.svm import LinearSVC"
   ]
  },
  {
   "cell_type": "code",
   "execution_count": 2,
   "metadata": {
    "collapsed": true
   },
   "outputs": [],
   "source": [
    "import pickle\n",
    "%matplotlib inline"
   ]
  },
  {
   "cell_type": "markdown",
   "metadata": {},
   "source": [
    "--------"
   ]
  },
  {
   "cell_type": "markdown",
   "metadata": {},
   "source": [
    "### Classifier"
   ]
  },
  {
   "cell_type": "markdown",
   "metadata": {},
   "source": [
    "#### Extraction of all required features"
   ]
  },
  {
   "cell_type": "code",
   "execution_count": 3,
   "metadata": {
    "collapsed": true
   },
   "outputs": [],
   "source": [
    "cars = glob.glob('data/vehicles/**/*.png')\n",
    "notcars = glob.glob('data/non-vehicles/**/*.png')"
   ]
  },
  {
   "cell_type": "code",
   "execution_count": 4,
   "metadata": {
    "collapsed": true
   },
   "outputs": [],
   "source": [
    "# Reduce the sample size because HOG features are slow to compute\n",
    "sample_size = 8000\n",
    "cars = cars[0:sample_size]\n",
    "notcars = notcars[0:sample_size]"
   ]
  },
  {
   "cell_type": "markdown",
   "metadata": {},
   "source": [
    "#### Parameters"
   ]
  },
  {
   "cell_type": "code",
   "execution_count": 5,
   "metadata": {
    "collapsed": true
   },
   "outputs": [],
   "source": [
    "colorspace = 'YCrCb'  #'RGB' # Can be RGB, HSV, LUV, HLS, YUV, YCrCb\n",
    "orient = 9\n",
    "pix_per_cell = 8\n",
    "cell_per_block = 2\n",
    "hog_channel = \"ALL\" # Can be 0, 1, 2, or \"ALL\"\n",
    "hist_bins = 32\n",
    "hist_bins_range = (0,256)\n",
    "spatial_size = (32,32)"
   ]
  },
  {
   "cell_type": "code",
   "execution_count": 6,
   "metadata": {
    "collapsed": true
   },
   "outputs": [],
   "source": [
    "from project.feature_extraction import FeatureExtraction"
   ]
  },
  {
   "cell_type": "code",
   "execution_count": 7,
   "metadata": {},
   "outputs": [
    {
     "name": "stderr",
     "output_type": "stream",
     "text": [
      "/Users/dibakarsigdel/anaconda/envs/carnd-term1/lib/python3.5/site-packages/skimage/feature/_hog.py:119: skimage_deprecation: Default value of `block_norm`==`L1` is deprecated and will be changed to `L2-Hys` in v0.15\n",
      "  'be changed to `L2-Hys` in v0.15', skimage_deprecation)\n"
     ]
    },
    {
     "name": "stdout",
     "output_type": "stream",
     "text": [
      "127.69 Seconds to extract HOG features and color features...\n"
     ]
    }
   ],
   "source": [
    "t=time.time()\n",
    "\n",
    "FE = FeatureExtraction(hist_bins = hist_bins,\\\n",
    "                            hist_bins_range =  hist_bins_range,\\\n",
    "                            spatial_size = spatial_size,\\\n",
    "                            orient = orient,\\\n",
    "                            pix_per_cell =  pix_per_cell,\\\n",
    "                            cell_per_block =  cell_per_block)\n",
    "\n",
    "\n",
    "color_car_features = FE.extract_color_features(cars,\n",
    "                                               cspace=colorspace)\n",
    "color_notcar_features = FE.extract_color_features(notcars,\n",
    "                                                cspace=colorspace)\n",
    "\n",
    "hog_car_features = FE.extract_hog_features(cars,\n",
    "                                    cspace=colorspace,\n",
    "                                    hog_channel=hog_channel)\n",
    "\n",
    "hog_notcar_features = FE.extract_hog_features(notcars,\n",
    "                                       cspace=colorspace,\n",
    "                                       hog_channel=hog_channel)\n",
    "\n",
    "t2 = time.time()\n",
    "\n",
    "print(round(t2-t, 2), 'Seconds to extract HOG features and color features...')\n"
   ]
  },
  {
   "cell_type": "markdown",
   "metadata": {},
   "source": [
    "#### Stacking all feature to single vector"
   ]
  },
  {
   "cell_type": "code",
   "execution_count": 8,
   "metadata": {
    "collapsed": true
   },
   "outputs": [],
   "source": [
    "# Create an array stack of feature vectors\n",
    "X_car = np.hstack((color_car_features,hog_car_features)).astype(np.float64)\n",
    "X_notcar = np.hstack((color_notcar_features, hog_notcar_features)).astype(np.float64) \n",
    "X = np.vstack((X_car,X_notcar)).astype(np.float64) \n",
    "\n",
    "X_scalar = StandardScaler().fit(X)\n",
    "\n",
    "# Apply the scaler to X\n",
    "scaled_X = X_scalar.transform(X)\n",
    "\n",
    "# Define the labels vector\n",
    "y = np.hstack((np.ones(len(hog_car_features)), np.zeros(len(hog_notcar_features))))"
   ]
  },
  {
   "cell_type": "code",
   "execution_count": 9,
   "metadata": {},
   "outputs": [
    {
     "data": {
      "text/plain": [
       "(16000, 6156)"
      ]
     },
     "execution_count": 9,
     "metadata": {},
     "output_type": "execute_result"
    }
   ],
   "source": [
    "scaled_X.shape"
   ]
  },
  {
   "cell_type": "markdown",
   "metadata": {
    "collapsed": true
   },
   "source": [
    "#### Train and test split"
   ]
  },
  {
   "cell_type": "code",
   "execution_count": 10,
   "metadata": {},
   "outputs": [
    {
     "name": "stdout",
     "output_type": "stream",
     "text": [
      "Using: 9 orientations 8 pixels per cell and 2 cells per block\n",
      "Feature vector length: 6156\n"
     ]
    }
   ],
   "source": [
    "from sklearn.utils import shuffle\n",
    "\n",
    "scaled_X, y = shuffle(scaled_X, y )\n",
    "\n",
    "# Split up data into randomized training and test sets\n",
    "rand_state = np.random.randint(0, 100)\n",
    "X_train, X_test, y_train, y_test = train_test_split(\n",
    "    scaled_X, y, test_size=0.2, random_state=rand_state)\n",
    "\n",
    "print('Using:',orient,'orientations',pix_per_cell,\n",
    "    'pixels per cell and', cell_per_block,'cells per block')\n",
    "print('Feature vector length:', len(X_train[0]))"
   ]
  },
  {
   "cell_type": "markdown",
   "metadata": {},
   "source": [
    "-------"
   ]
  },
  {
   "cell_type": "markdown",
   "metadata": {},
   "source": [
    "### Neural Networks"
   ]
  },
  {
   "cell_type": "code",
   "execution_count": 11,
   "metadata": {},
   "outputs": [
    {
     "name": "stderr",
     "output_type": "stream",
     "text": [
      "Using TensorFlow backend.\n"
     ]
    }
   ],
   "source": [
    "from keras.models import Sequential\n",
    "from keras.utils import np_utils\n",
    "from keras.layers.core import Dense, Activation, Dropout\n",
    "import os"
   ]
  },
  {
   "cell_type": "code",
   "execution_count": 12,
   "metadata": {
    "collapsed": true
   },
   "outputs": [],
   "source": [
    "import pandas as pd"
   ]
  },
  {
   "cell_type": "markdown",
   "metadata": {},
   "source": [
    "------"
   ]
  },
  {
   "cell_type": "code",
   "execution_count": 13,
   "metadata": {},
   "outputs": [
    {
     "data": {
      "text/plain": [
       "6156"
      ]
     },
     "execution_count": 13,
     "metadata": {},
     "output_type": "execute_result"
    }
   ],
   "source": [
    "input_dim = X_train.shape[1]\n",
    "input_dim"
   ]
  },
  {
   "cell_type": "code",
   "execution_count": 14,
   "metadata": {
    "collapsed": true
   },
   "outputs": [],
   "source": [
    "y_train = np_utils.to_categorical(y_train)"
   ]
  },
  {
   "cell_type": "code",
   "execution_count": 15,
   "metadata": {},
   "outputs": [
    {
     "data": {
      "text/plain": [
       "2"
      ]
     },
     "execution_count": 15,
     "metadata": {},
     "output_type": "execute_result"
    }
   ],
   "source": [
    "num_classes = y_train.shape[1]\n",
    "num_classes"
   ]
  },
  {
   "cell_type": "code",
   "execution_count": 16,
   "metadata": {
    "collapsed": true
   },
   "outputs": [],
   "source": [
    "model = Sequential()\n",
    "\n",
    "model.add(Dense(128, input_dim=input_dim, activation='relu'))\n",
    "model.add(Dropout(0.15))\n",
    "\n",
    "model.add(Dense(64, activation='relu'))\n",
    "model.add(Dropout(0.15))\n",
    "\n",
    "model.add(Dense(32, activation='relu'))\n",
    "model.add(Dropout(0.15))\n",
    "\n",
    "model.add(Dense(8, activation='relu'))\n",
    "model.add(Dropout(0.15))\n",
    "\n",
    "model.add(Dense(num_classes, activation='softmax'))\n"
   ]
  },
  {
   "cell_type": "code",
   "execution_count": 17,
   "metadata": {
    "collapsed": true
   },
   "outputs": [],
   "source": [
    "# we'll use categorical xent for the loss, and RMSprop as the optimizer\n",
    "model.compile(loss='categorical_crossentropy',\\\n",
    "              optimizer='rmsprop',\\\n",
    "              metrics=['accuracy'])"
   ]
  },
  {
   "cell_type": "code",
   "execution_count": 18,
   "metadata": {},
   "outputs": [
    {
     "name": "stdout",
     "output_type": "stream",
     "text": [
      "Training...\n"
     ]
    },
    {
     "name": "stderr",
     "output_type": "stream",
     "text": [
      "/Users/dibakarsigdel/anaconda/envs/carnd-term1/lib/python3.5/site-packages/keras/models.py:834: UserWarning: The `nb_epoch` argument in `fit` has been renamed `epochs`.\n",
      "  warnings.warn('The `nb_epoch` argument in `fit` '\n"
     ]
    },
    {
     "name": "stdout",
     "output_type": "stream",
     "text": [
      "Train on 11520 samples, validate on 1280 samples\n",
      "Epoch 1/100\n",
      "12s - loss: 0.1070 - acc: 0.9648 - val_loss: 0.0355 - val_acc: 0.9906\n",
      "Epoch 2/100\n",
      "5s - loss: 0.0296 - acc: 0.9917 - val_loss: 0.0446 - val_acc: 0.9922\n",
      "Epoch 3/100\n",
      "5s - loss: 0.0209 - acc: 0.9952 - val_loss: 0.0563 - val_acc: 0.9922\n",
      "Epoch 4/100\n",
      "5s - loss: 0.0136 - acc: 0.9965 - val_loss: 0.0604 - val_acc: 0.9953\n",
      "Epoch 5/100\n",
      "5s - loss: 0.0144 - acc: 0.9970 - val_loss: 0.0586 - val_acc: 0.9914\n",
      "Epoch 6/100\n",
      "5s - loss: 0.0115 - acc: 0.9974 - val_loss: 0.0463 - val_acc: 0.9953\n",
      "Epoch 7/100\n",
      "5s - loss: 0.0083 - acc: 0.9964 - val_loss: 0.0383 - val_acc: 0.9961\n",
      "Epoch 8/100\n",
      "5s - loss: 0.0086 - acc: 0.9970 - val_loss: 0.0512 - val_acc: 0.9953\n",
      "Epoch 9/100\n",
      "7s - loss: 0.0107 - acc: 0.9981 - val_loss: 0.0316 - val_acc: 0.9977\n",
      "Epoch 10/100\n",
      "8s - loss: 0.0099 - acc: 0.9973 - val_loss: 0.0875 - val_acc: 0.9930\n",
      "Epoch 11/100\n",
      "8s - loss: 0.0065 - acc: 0.9984 - val_loss: 0.0436 - val_acc: 0.9953\n",
      "Epoch 12/100\n",
      "5s - loss: 0.0073 - acc: 0.9984 - val_loss: 0.0399 - val_acc: 0.9945\n",
      "Epoch 13/100\n",
      "5s - loss: 0.0086 - acc: 0.9976 - val_loss: 0.0426 - val_acc: 0.9969\n",
      "Epoch 14/100\n",
      "5s - loss: 0.0083 - acc: 0.9975 - val_loss: 0.0239 - val_acc: 0.9961\n",
      "Epoch 15/100\n",
      "5s - loss: 0.0087 - acc: 0.9977 - val_loss: 0.0595 - val_acc: 0.9961\n",
      "Epoch 16/100\n",
      "5s - loss: 0.0095 - acc: 0.9976 - val_loss: 0.0695 - val_acc: 0.9938\n",
      "Epoch 17/100\n",
      "5s - loss: 0.0114 - acc: 0.9971 - val_loss: 0.0902 - val_acc: 0.9930\n",
      "Epoch 18/100\n",
      "5s - loss: 0.0106 - acc: 0.9975 - val_loss: 0.0527 - val_acc: 0.9961\n",
      "Epoch 19/100\n",
      "5s - loss: 0.0086 - acc: 0.9972 - val_loss: 0.0623 - val_acc: 0.9953\n",
      "Epoch 20/100\n",
      "5s - loss: 0.0058 - acc: 0.9980 - val_loss: 0.0694 - val_acc: 0.9953\n",
      "Epoch 21/100\n",
      "5s - loss: 0.0052 - acc: 0.9978 - val_loss: 0.0579 - val_acc: 0.9953\n",
      "Epoch 22/100\n",
      "5s - loss: 0.0095 - acc: 0.9976 - val_loss: 0.0504 - val_acc: 0.9969\n",
      "Epoch 23/100\n",
      "5s - loss: 0.0048 - acc: 0.9981 - val_loss: 0.0668 - val_acc: 0.9953\n",
      "Epoch 24/100\n",
      "5s - loss: 0.0040 - acc: 0.9984 - val_loss: 0.0660 - val_acc: 0.9953\n",
      "Epoch 25/100\n",
      "5s - loss: 0.0104 - acc: 0.9985 - val_loss: 0.0461 - val_acc: 0.9969\n",
      "Epoch 26/100\n",
      "5s - loss: 0.0048 - acc: 0.9981 - val_loss: 0.0616 - val_acc: 0.9961\n",
      "Epoch 27/100\n",
      "5s - loss: 0.0050 - acc: 0.9978 - val_loss: 0.0521 - val_acc: 0.9961\n",
      "Epoch 28/100\n",
      "5s - loss: 0.0032 - acc: 0.9987 - val_loss: 0.0615 - val_acc: 0.9961\n",
      "Epoch 29/100\n",
      "6s - loss: 0.0048 - acc: 0.9977 - val_loss: 0.0728 - val_acc: 0.9945\n",
      "Epoch 30/100\n",
      "7s - loss: 0.0065 - acc: 0.9977 - val_loss: 0.0565 - val_acc: 0.9953\n",
      "Epoch 31/100\n",
      "8s - loss: 0.0053 - acc: 0.9982 - val_loss: 0.0752 - val_acc: 0.9953\n",
      "Epoch 32/100\n",
      "6s - loss: 0.0056 - acc: 0.9984 - val_loss: 0.0630 - val_acc: 0.9961\n",
      "Epoch 33/100\n",
      "5s - loss: 0.0062 - acc: 0.9977 - val_loss: 0.0504 - val_acc: 0.9969\n",
      "Epoch 34/100\n",
      "5s - loss: 0.0053 - acc: 0.9976 - val_loss: 0.0756 - val_acc: 0.9953\n",
      "Epoch 35/100\n",
      "5s - loss: 0.0042 - acc: 0.9977 - val_loss: 0.0378 - val_acc: 0.9977\n",
      "Epoch 36/100\n",
      "5s - loss: 0.0060 - acc: 0.9976 - val_loss: 0.0504 - val_acc: 0.9969\n",
      "Epoch 37/100\n",
      "5s - loss: 0.0074 - acc: 0.9977 - val_loss: 0.0759 - val_acc: 0.9938\n",
      "Epoch 38/100\n",
      "5s - loss: 0.0078 - acc: 0.9977 - val_loss: 0.0504 - val_acc: 0.9969\n",
      "Epoch 39/100\n",
      "5s - loss: 0.0066 - acc: 0.9978 - val_loss: 0.0504 - val_acc: 0.9969\n",
      "Epoch 40/100\n",
      "5s - loss: 0.0068 - acc: 0.9978 - val_loss: 0.0504 - val_acc: 0.9969\n",
      "Epoch 41/100\n",
      "5s - loss: 0.0042 - acc: 0.9977 - val_loss: 0.0504 - val_acc: 0.9969\n",
      "Epoch 42/100\n",
      "5s - loss: 0.0052 - acc: 0.9987 - val_loss: 0.0871 - val_acc: 0.9938\n",
      "Epoch 43/100\n",
      "5s - loss: 0.0069 - acc: 0.9972 - val_loss: 0.0872 - val_acc: 0.9938\n",
      "Epoch 44/100\n",
      "5s - loss: 0.0072 - acc: 0.9979 - val_loss: 0.1014 - val_acc: 0.9930\n",
      "Epoch 45/100\n",
      "5s - loss: 0.0052 - acc: 0.9988 - val_loss: 0.0505 - val_acc: 0.9969\n",
      "Epoch 46/100\n",
      "5s - loss: 0.0054 - acc: 0.9981 - val_loss: 0.0630 - val_acc: 0.9961\n",
      "Epoch 47/100\n",
      "5s - loss: 0.0080 - acc: 0.9984 - val_loss: 0.0504 - val_acc: 0.9969\n",
      "Epoch 48/100\n",
      "5s - loss: 0.0089 - acc: 0.9981 - val_loss: 0.0378 - val_acc: 0.9977\n",
      "Epoch 49/100\n",
      "5s - loss: 0.0080 - acc: 0.9978 - val_loss: 0.0659 - val_acc: 0.9945\n",
      "Epoch 50/100\n",
      "6s - loss: 0.0091 - acc: 0.9979 - val_loss: 0.0504 - val_acc: 0.9969\n",
      "Epoch 51/100\n",
      "7s - loss: 0.0042 - acc: 0.9983 - val_loss: 0.0656 - val_acc: 0.9953\n",
      "Epoch 52/100\n",
      "7s - loss: 0.0053 - acc: 0.9980 - val_loss: 0.0630 - val_acc: 0.9961\n",
      "Epoch 53/100\n",
      "5s - loss: 0.0082 - acc: 0.9974 - val_loss: 0.1164 - val_acc: 0.9922\n",
      "Epoch 54/100\n",
      "5s - loss: 0.0056 - acc: 0.9978 - val_loss: 0.0613 - val_acc: 0.9961\n",
      "Epoch 55/100\n",
      "5s - loss: 0.0072 - acc: 0.9980 - val_loss: 0.0542 - val_acc: 0.9961\n",
      "Epoch 56/100\n",
      "5s - loss: 0.0054 - acc: 0.9977 - val_loss: 0.0578 - val_acc: 0.9961\n",
      "Epoch 57/100\n",
      "5s - loss: 0.0052 - acc: 0.9986 - val_loss: 0.0510 - val_acc: 0.9961\n",
      "Epoch 58/100\n",
      "5s - loss: 0.0087 - acc: 0.9979 - val_loss: 0.0504 - val_acc: 0.9969\n",
      "Epoch 59/100\n",
      "5s - loss: 0.0047 - acc: 0.9984 - val_loss: 0.0630 - val_acc: 0.9961\n",
      "Epoch 60/100\n",
      "5s - loss: 0.0038 - acc: 0.9979 - val_loss: 0.0630 - val_acc: 0.9961\n",
      "Epoch 61/100\n",
      "5s - loss: 0.0058 - acc: 0.9980 - val_loss: 0.0833 - val_acc: 0.9945\n",
      "Epoch 62/100\n",
      "5s - loss: 0.0049 - acc: 0.9983 - val_loss: 0.0756 - val_acc: 0.9953\n",
      "Epoch 63/100\n",
      "5s - loss: 0.0058 - acc: 0.9982 - val_loss: 0.0585 - val_acc: 0.9961\n",
      "Epoch 64/100\n",
      "5s - loss: 0.0066 - acc: 0.9980 - val_loss: 0.0630 - val_acc: 0.9961\n",
      "Epoch 65/100\n",
      "5s - loss: 0.0072 - acc: 0.9978 - val_loss: 0.0881 - val_acc: 0.9945\n",
      "Epoch 66/100\n",
      "5s - loss: 0.0051 - acc: 0.9984 - val_loss: 0.0630 - val_acc: 0.9961\n",
      "Epoch 67/100\n",
      "5s - loss: 0.0085 - acc: 0.9977 - val_loss: 0.0756 - val_acc: 0.9953\n",
      "Epoch 68/100\n",
      "5s - loss: 0.0052 - acc: 0.9978 - val_loss: 0.0721 - val_acc: 0.9953\n",
      "Epoch 69/100\n",
      "5s - loss: 0.0031 - acc: 0.9988 - val_loss: 0.0756 - val_acc: 0.9953\n",
      "Epoch 70/100\n",
      "5s - loss: 0.0036 - acc: 0.9989 - val_loss: 0.0866 - val_acc: 0.9945\n",
      "Epoch 71/100\n",
      "6s - loss: 0.0049 - acc: 0.9989 - val_loss: 0.0668 - val_acc: 0.9945\n",
      "Epoch 72/100\n",
      "7s - loss: 0.0055 - acc: 0.9992 - val_loss: 0.0881 - val_acc: 0.9945\n",
      "Epoch 73/100\n",
      "7s - loss: 0.0055 - acc: 0.9993 - val_loss: 0.0504 - val_acc: 0.9969\n",
      "Epoch 74/100\n",
      "5s - loss: 0.0036 - acc: 0.9993 - val_loss: 0.1010 - val_acc: 0.9938\n",
      "Epoch 75/100\n",
      "5s - loss: 0.0067 - acc: 0.9988 - val_loss: 0.0881 - val_acc: 0.9945\n",
      "Epoch 76/100\n",
      "5s - loss: 0.0043 - acc: 0.9994 - val_loss: 0.0881 - val_acc: 0.9945\n",
      "Epoch 77/100\n",
      "5s - loss: 0.0061 - acc: 0.9992 - val_loss: 0.0756 - val_acc: 0.9953\n",
      "Epoch 78/100\n",
      "5s - loss: 0.0035 - acc: 0.9993 - val_loss: 0.1007 - val_acc: 0.9938\n",
      "Epoch 79/100\n",
      "5s - loss: 0.0052 - acc: 0.9994 - val_loss: 0.0881 - val_acc: 0.9945\n",
      "Epoch 80/100\n",
      "5s - loss: 0.0020 - acc: 0.9997 - val_loss: 0.0829 - val_acc: 0.9945\n",
      "Epoch 81/100\n",
      "6s - loss: 0.0023 - acc: 0.9996 - val_loss: 0.0829 - val_acc: 0.9945\n",
      "Epoch 82/100\n",
      "6s - loss: 0.0035 - acc: 0.9996 - val_loss: 0.0846 - val_acc: 0.9945\n",
      "Epoch 83/100\n",
      "5s - loss: 0.0026 - acc: 0.9996 - val_loss: 0.0899 - val_acc: 0.9938\n",
      "Epoch 84/100\n",
      "5s - loss: 0.0025 - acc: 0.9996 - val_loss: 0.0962 - val_acc: 0.9938\n",
      "Epoch 85/100\n",
      "5s - loss: 0.0020 - acc: 0.9997 - val_loss: 0.0954 - val_acc: 0.9938\n",
      "Epoch 86/100\n",
      "5s - loss: 0.0034 - acc: 0.9997 - val_loss: 0.0881 - val_acc: 0.9945\n",
      "Epoch 87/100\n",
      "5s - loss: 0.0037 - acc: 0.9996 - val_loss: 0.0881 - val_acc: 0.9945\n",
      "Epoch 88/100\n",
      "5s - loss: 0.0022 - acc: 0.9997 - val_loss: 0.0898 - val_acc: 0.9938\n",
      "Epoch 89/100\n",
      "5s - loss: 0.0034 - acc: 0.9997 - val_loss: 0.0881 - val_acc: 0.9945\n",
      "Epoch 90/100\n",
      "5s - loss: 0.0021 - acc: 0.9997 - val_loss: 0.0881 - val_acc: 0.9945\n",
      "Epoch 91/100\n",
      "6s - loss: 0.0019 - acc: 0.9998 - val_loss: 0.0881 - val_acc: 0.9945\n",
      "Epoch 92/100\n",
      "7s - loss: 0.0024 - acc: 0.9996 - val_loss: 0.0881 - val_acc: 0.9945\n",
      "Epoch 93/100\n",
      "7s - loss: 0.0021 - acc: 0.9997 - val_loss: 0.0881 - val_acc: 0.9945\n",
      "Epoch 94/100\n",
      "5s - loss: 0.0019 - acc: 0.9997 - val_loss: 0.0881 - val_acc: 0.9945\n",
      "Epoch 95/100\n",
      "5s - loss: 0.0021 - acc: 0.9997 - val_loss: 0.0881 - val_acc: 0.9945\n",
      "Epoch 96/100\n",
      "5s - loss: 0.0028 - acc: 0.9993 - val_loss: 0.0881 - val_acc: 0.9945\n",
      "Epoch 97/100\n",
      "5s - loss: 0.0023 - acc: 0.9996 - val_loss: 0.0882 - val_acc: 0.9945\n",
      "Epoch 98/100\n",
      "5s - loss: 0.0028 - acc: 0.9994 - val_loss: 0.0882 - val_acc: 0.9945\n",
      "Epoch 99/100\n",
      "5s - loss: 0.0051 - acc: 0.9992 - val_loss: 0.0997 - val_acc: 0.9938\n",
      "Epoch 100/100\n",
      "5s - loss: 0.0035 - acc: 0.9996 - val_loss: 0.0997 - val_acc: 0.9938\n"
     ]
    }
   ],
   "source": [
    "print(\"Training...\")\n",
    "history = model.fit(X_train,\\\n",
    "          y_train,\\\n",
    "          nb_epoch=100,\\\n",
    "          batch_size=32,\\\n",
    "          validation_split=0.1,\\\n",
    "          verbose=2)"
   ]
  },
  {
   "cell_type": "code",
   "execution_count": 20,
   "metadata": {},
   "outputs": [
    {
     "data": {
      "image/png": "[encoded data removed]",
      "text/plain": [
       "<matplotlib.figure.Figure at 0x185f05630>"
      ]
     },
     "metadata": {},
     "output_type": "display_data"
    }
   ],
   "source": [
    "plt.plot(history.history['loss'])\n",
    "plt.plot(history.history['val_loss'])\n",
    "plt.title('model mean squared error loss')\n",
    "plt.ylabel('mean squared error loss')\n",
    "plt.xlabel('epoch')\n",
    "plt.legend(['training set', 'validation set'], loc='upper right')\n",
    "plt.show()"
   ]
  },
  {
   "cell_type": "code",
   "execution_count": 21,
   "metadata": {
    "collapsed": true
   },
   "outputs": [],
   "source": [
    "model.save(\"model.h5\")"
   ]
  },
  {
   "cell_type": "code",
   "execution_count": 22,
   "metadata": {},
   "outputs": [
    {
     "name": "stdout",
     "output_type": "stream",
     "text": [
      "Generating test predictions...\n"
     ]
    }
   ],
   "source": [
    "print(\"Generating test predictions...\")\n",
    "preds = model.predict_classes(X_test, verbose=0)\n",
    "\n",
    "def write_preds(preds, fname):\n",
    "    pd.DataFrame({\"Id\": list(range(1,len(preds)+1)),\"true-level\": y_test, \"pLabel\": preds}).to_csv(fname, index=False, header=True)\n",
    "\n",
    "write_preds(preds, \"keras-mlp.csv\")"
   ]
  },
  {
   "cell_type": "code",
   "execution_count": 23,
   "metadata": {
    "collapsed": true
   },
   "outputs": [],
   "source": [
    "test = pd.read_csv(\"keras-mlp.csv\")"
   ]
  },
  {
   "cell_type": "code",
   "execution_count": 24,
   "metadata": {},
   "outputs": [
    {
     "data": {
      "text/html": [
       "<div>\n",
       "<table border=\"1\" class=\"dataframe\">\n",
       "  <thead>\n",
       "    <tr style=\"text-align: right;\">\n",
       "      <th></th>\n",
       "      <th>Id</th>\n",
       "      <th>pLabel</th>\n",
       "      <th>true-level</th>\n",
       "    </tr>\n",
       "  </thead>\n",
       "  <tbody>\n",
       "    <tr>\n",
       "      <th>0</th>\n",
       "      <td>1</td>\n",
       "      <td>1</td>\n",
       "      <td>1.0</td>\n",
       "    </tr>\n",
       "    <tr>\n",
       "      <th>1</th>\n",
       "      <td>2</td>\n",
       "      <td>0</td>\n",
       "      <td>0.0</td>\n",
       "    </tr>\n",
       "    <tr>\n",
       "      <th>2</th>\n",
       "      <td>3</td>\n",
       "      <td>0</td>\n",
       "      <td>0.0</td>\n",
       "    </tr>\n",
       "    <tr>\n",
       "      <th>3</th>\n",
       "      <td>4</td>\n",
       "      <td>1</td>\n",
       "      <td>1.0</td>\n",
       "    </tr>\n",
       "    <tr>\n",
       "      <th>4</th>\n",
       "      <td>5</td>\n",
       "      <td>1</td>\n",
       "      <td>1.0</td>\n",
       "    </tr>\n",
       "  </tbody>\n",
       "</table>\n",
       "</div>"
      ],
      "text/plain": [
       "   Id  pLabel  true-level\n",
       "0   1       1         1.0\n",
       "1   2       0         0.0\n",
       "2   3       0         0.0\n",
       "3   4       1         1.0\n",
       "4   5       1         1.0"
      ]
     },
     "execution_count": 24,
     "metadata": {},
     "output_type": "execute_result"
    }
   ],
   "source": [
    "test.head(5)"
   ]
  },
  {
   "cell_type": "code",
   "execution_count": 30,
   "metadata": {},
   "outputs": [
    {
     "data": {
      "text/plain": [
       "3174"
      ]
     },
     "execution_count": 30,
     "metadata": {},
     "output_type": "execute_result"
    }
   ],
   "source": [
    "np.sum(test['pLabel'] == test['true-level'])"
   ]
  },
  {
   "cell_type": "code",
   "execution_count": 31,
   "metadata": {},
   "outputs": [
    {
     "data": {
      "text/plain": [
       "(3200, 3)"
      ]
     },
     "execution_count": 31,
     "metadata": {},
     "output_type": "execute_result"
    }
   ],
   "source": [
    "test.shape"
   ]
  },
  {
   "cell_type": "code",
   "execution_count": 32,
   "metadata": {},
   "outputs": [
    {
     "data": {
      "text/plain": [
       "0.991875"
      ]
     },
     "execution_count": 32,
     "metadata": {},
     "output_type": "execute_result"
    }
   ],
   "source": [
    "accuracy = 3174/3200\n",
    "accuracy"
   ]
  },
  {
   "cell_type": "markdown",
   "metadata": {},
   "source": [
    "------"
   ]
  },
  {
   "cell_type": "code",
   "execution_count": 25,
   "metadata": {
    "collapsed": true
   },
   "outputs": [],
   "source": [
    "import pickle as pickle\n",
    "pickle_dict = {}\n",
    "pickle_dict[\"scalar\"] = X_scalar\n",
    "pickle_dict[\"orient\"] = orient \n",
    "pickle_dict[\"pix_per_cell\"]= pix_per_cell \n",
    "pickle_dict[\"cell_per_block\"]= cell_per_block \n",
    "pickle_dict[\"spatial_size\"]= spatial_size \n",
    "pickle_dict[\"hist_bins\"]= hist_bins "
   ]
  },
  {
   "cell_type": "code",
   "execution_count": 26,
   "metadata": {},
   "outputs": [
    {
     "data": {
      "text/plain": [
       "{'cell_per_block': 2,\n",
       " 'hist_bins': 32,\n",
       " 'orient': 9,\n",
       " 'pix_per_cell': 8,\n",
       " 'scalar': StandardScaler(copy=True, with_mean=True, with_std=True),\n",
       " 'spatial_size': (32, 32)}"
      ]
     },
     "execution_count": 26,
     "metadata": {},
     "output_type": "execute_result"
    }
   ],
   "source": [
    "pickle_dict"
   ]
  },
  {
   "cell_type": "code",
   "execution_count": 27,
   "metadata": {
    "collapsed": true
   },
   "outputs": [],
   "source": [
    "with open('nn_pickle.p', mode='wb') as f:\n",
    "    pickle.dump(pickle_dict, f)"
   ]
  },
  {
   "cell_type": "markdown",
   "metadata": {},
   "source": [
    "------"
   ]
  }
 ],
 "metadata": {
  "kernelspec": {
   "display_name": "Python 3",
   "language": "python",
   "name": "python3"
  },
  "language_info": {
   "codemirror_mode": {
    "name": "ipython",
    "version": 3
   },
   "file_extension": ".py",
   "mimetype": "text/x-python",
   "name": "python",
   "nbconvert_exporter": "python",
   "pygments_lexer": "ipython3",
   "version": "3.5.2"
  },
  "widgets": {
   "state": {},
   "version": "1.1.2"
  }
 },
 "nbformat": 4,
 "nbformat_minor": 2
}
